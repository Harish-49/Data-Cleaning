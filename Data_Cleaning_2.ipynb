{
 "cells": [
  {
   "cell_type": "markdown",
   "metadata": {
    "id": "W_4hJGeG_G9k"
   },
   "source": [
    "# ODI RANKING DATASET\n",
    "---"
   ]
  },
  {
   "cell_type": "markdown",
   "metadata": {},
   "source": [
    "### Importing libraries"
   ]
  },
  {
   "cell_type": "code",
   "execution_count": 1,
   "metadata": {
    "id": "KRGOe_klidGr"
   },
   "outputs": [],
   "source": [
    "import pandas as pd"
   ]
  },
  {
   "cell_type": "markdown",
   "metadata": {},
   "source": [
    "### Importing  Dataset"
   ]
  },
  {
   "cell_type": "code",
   "execution_count": 2,
   "metadata": {
    "colab": {
     "base_uri": "https://localhost:8080/",
     "height": 938
    },
    "id": "Qubm7UJliwTA",
    "outputId": "f31e6a06-4e71-4345-a508-fa38ba837573"
   },
   "outputs": [
    {
     "data": {
      "text/html": [
       "<div>\n",
       "<style scoped>\n",
       "    .dataframe tbody tr th:only-of-type {\n",
       "        vertical-align: middle;\n",
       "    }\n",
       "\n",
       "    .dataframe tbody tr th {\n",
       "        vertical-align: top;\n",
       "    }\n",
       "\n",
       "    .dataframe thead th {\n",
       "        text-align: right;\n",
       "    }\n",
       "</style>\n",
       "<table border=\"1\" class=\"dataframe\">\n",
       "  <thead>\n",
       "    <tr style=\"text-align: right;\">\n",
       "      <th></th>\n",
       "      <th>Date</th>\n",
       "      <th>Player_name</th>\n",
       "      <th>Nationality</th>\n",
       "      <th>Rating</th>\n",
       "      <th>Best_rating</th>\n",
       "      <th>Previous_Ranking</th>\n",
       "      <th>Type</th>\n",
       "      <th>Format</th>\n",
       "    </tr>\n",
       "  </thead>\n",
       "  <tbody>\n",
       "    <tr>\n",
       "      <th>0</th>\n",
       "      <td>01-01-2016</td>\n",
       "      <td>AB de Villiers</td>\n",
       "      <td>SA</td>\n",
       "      <td>900.0</td>\n",
       "      <td>902.0</td>\n",
       "      <td>1.0</td>\n",
       "      <td>Batting</td>\n",
       "      <td>ODI</td>\n",
       "    </tr>\n",
       "    <tr>\n",
       "      <th>1</th>\n",
       "      <td>01-01-2016</td>\n",
       "      <td>Virat Kohli</td>\n",
       "      <td>IND</td>\n",
       "      <td>804.0</td>\n",
       "      <td>911.0</td>\n",
       "      <td>2.0</td>\n",
       "      <td>BATTING</td>\n",
       "      <td>ODI</td>\n",
       "    </tr>\n",
       "    <tr>\n",
       "      <th>2</th>\n",
       "      <td>01-01-2016</td>\n",
       "      <td>Kane Williamson</td>\n",
       "      <td>NZ</td>\n",
       "      <td>781.0</td>\n",
       "      <td>799.0</td>\n",
       "      <td>3.0</td>\n",
       "      <td>Batting</td>\n",
       "      <td>ODI</td>\n",
       "    </tr>\n",
       "    <tr>\n",
       "      <th>3</th>\n",
       "      <td>01-01-2016</td>\n",
       "      <td>Hashim Amla</td>\n",
       "      <td>SA</td>\n",
       "      <td>776.0</td>\n",
       "      <td>901.0</td>\n",
       "      <td>4.0</td>\n",
       "      <td>BATTING</td>\n",
       "      <td>ODI</td>\n",
       "    </tr>\n",
       "    <tr>\n",
       "      <th>4</th>\n",
       "      <td>01-01-2016</td>\n",
       "      <td>Tillekeratne Dilshan</td>\n",
       "      <td>SL</td>\n",
       "      <td>771.0</td>\n",
       "      <td>802.0</td>\n",
       "      <td>5.0</td>\n",
       "      <td>Batting</td>\n",
       "      <td>ODI</td>\n",
       "    </tr>\n",
       "    <tr>\n",
       "      <th>5</th>\n",
       "      <td>01-01-2016</td>\n",
       "      <td>MS Dhoni</td>\n",
       "      <td>IND</td>\n",
       "      <td>741.0</td>\n",
       "      <td>836.0</td>\n",
       "      <td>6.0</td>\n",
       "      <td>Batting</td>\n",
       "      <td>ODI</td>\n",
       "    </tr>\n",
       "    <tr>\n",
       "      <th>6</th>\n",
       "      <td>01-01-2016</td>\n",
       "      <td>Shikhar Dhawan</td>\n",
       "      <td>IND</td>\n",
       "      <td>730.0</td>\n",
       "      <td>813.0</td>\n",
       "      <td>7.0</td>\n",
       "      <td>Batting</td>\n",
       "      <td>ODI</td>\n",
       "    </tr>\n",
       "    <tr>\n",
       "      <th>7</th>\n",
       "      <td>01-01-2016</td>\n",
       "      <td>Glenn Maxwell</td>\n",
       "      <td>AUS</td>\n",
       "      <td>717.0</td>\n",
       "      <td>735.0</td>\n",
       "      <td>9.0</td>\n",
       "      <td>BATTING</td>\n",
       "      <td>ODI</td>\n",
       "    </tr>\n",
       "    <tr>\n",
       "      <th>8</th>\n",
       "      <td>01-01-2016</td>\n",
       "      <td>Ross Taylor</td>\n",
       "      <td>NZ</td>\n",
       "      <td>716.0</td>\n",
       "      <td>841.0</td>\n",
       "      <td>8.0</td>\n",
       "      <td>Batting</td>\n",
       "      <td>ODI</td>\n",
       "    </tr>\n",
       "    <tr>\n",
       "      <th>9</th>\n",
       "      <td>01-01-2016</td>\n",
       "      <td>Quinton de Kock</td>\n",
       "      <td>NaN</td>\n",
       "      <td>715.0</td>\n",
       "      <td>813.0</td>\n",
       "      <td>11.0</td>\n",
       "      <td>Batting</td>\n",
       "      <td>ODI</td>\n",
       "    </tr>\n",
       "    <tr>\n",
       "      <th>10</th>\n",
       "      <td>01-01-2016</td>\n",
       "      <td>Francois du Plessis</td>\n",
       "      <td>SA</td>\n",
       "      <td>715.0</td>\n",
       "      <td>820.0</td>\n",
       "      <td>12.0</td>\n",
       "      <td>Batting</td>\n",
       "      <td>ODI</td>\n",
       "    </tr>\n",
       "    <tr>\n",
       "      <th>11</th>\n",
       "      <td>01-01-2016</td>\n",
       "      <td>Martin Guptill</td>\n",
       "      <td>NaN</td>\n",
       "      <td>NaN</td>\n",
       "      <td>NaN</td>\n",
       "      <td>NaN</td>\n",
       "      <td>NaN</td>\n",
       "      <td>NaN</td>\n",
       "    </tr>\n",
       "    <tr>\n",
       "      <th>12</th>\n",
       "      <td>01-01-2016</td>\n",
       "      <td>NaN</td>\n",
       "      <td>NaN</td>\n",
       "      <td>NaN</td>\n",
       "      <td>NaN</td>\n",
       "      <td>NaN</td>\n",
       "      <td>NaN</td>\n",
       "      <td>NaN</td>\n",
       "    </tr>\n",
       "    <tr>\n",
       "      <th>13</th>\n",
       "      <td>01-01-2016</td>\n",
       "      <td>Aaron Finch</td>\n",
       "      <td>AUS</td>\n",
       "      <td>696.0</td>\n",
       "      <td>NaN</td>\n",
       "      <td>14.0</td>\n",
       "      <td>Batting</td>\n",
       "      <td>NaN</td>\n",
       "    </tr>\n",
       "    <tr>\n",
       "      <th>14</th>\n",
       "      <td>01-01-2016</td>\n",
       "      <td>George Bailey</td>\n",
       "      <td>NaN</td>\n",
       "      <td>NaN</td>\n",
       "      <td>NaN</td>\n",
       "      <td>NaN</td>\n",
       "      <td>NaN</td>\n",
       "      <td>NaN</td>\n",
       "    </tr>\n",
       "    <tr>\n",
       "      <th>15</th>\n",
       "      <td>01-01-2016</td>\n",
       "      <td>Joe Root</td>\n",
       "      <td>ENG</td>\n",
       "      <td>675.0</td>\n",
       "      <td>NaN</td>\n",
       "      <td>16.0</td>\n",
       "      <td>Batting</td>\n",
       "      <td>NaN</td>\n",
       "    </tr>\n",
       "    <tr>\n",
       "      <th>16</th>\n",
       "      <td>01-01-2016</td>\n",
       "      <td>Jos Buttler</td>\n",
       "      <td>ENG</td>\n",
       "      <td>662.0</td>\n",
       "      <td>741.0</td>\n",
       "      <td>17.0</td>\n",
       "      <td>Batting</td>\n",
       "      <td>NaN</td>\n",
       "    </tr>\n",
       "    <tr>\n",
       "      <th>17</th>\n",
       "      <td>01-01-2016</td>\n",
       "      <td>Soumya Sarkar</td>\n",
       "      <td>BAN</td>\n",
       "      <td>661.0</td>\n",
       "      <td>671.0</td>\n",
       "      <td>18.0</td>\n",
       "      <td>Batting</td>\n",
       "      <td>NaN</td>\n",
       "    </tr>\n",
       "    <tr>\n",
       "      <th>18</th>\n",
       "      <td>01-01-2016</td>\n",
       "      <td>Mushfiqur Rahim</td>\n",
       "      <td>BAN</td>\n",
       "      <td>NaN</td>\n",
       "      <td>723.0</td>\n",
       "      <td>19.0</td>\n",
       "      <td>Batting</td>\n",
       "      <td>ODI</td>\n",
       "    </tr>\n",
       "    <tr>\n",
       "      <th>19</th>\n",
       "      <td>01-01-2016</td>\n",
       "      <td>Steve Smith</td>\n",
       "      <td>AUS</td>\n",
       "      <td>657.0</td>\n",
       "      <td>752.0</td>\n",
       "      <td>20.0</td>\n",
       "      <td>Batting</td>\n",
       "      <td>ODI</td>\n",
       "    </tr>\n",
       "    <tr>\n",
       "      <th>20</th>\n",
       "      <td>01-01-2016</td>\n",
       "      <td>Eoin Morgan</td>\n",
       "      <td>ENG</td>\n",
       "      <td>643.0</td>\n",
       "      <td>720.0</td>\n",
       "      <td>21.0</td>\n",
       "      <td>Batting</td>\n",
       "      <td>ODI</td>\n",
       "    </tr>\n",
       "    <tr>\n",
       "      <th>21</th>\n",
       "      <td>01-01-2016</td>\n",
       "      <td>David Warner</td>\n",
       "      <td>AUS</td>\n",
       "      <td>638.0</td>\n",
       "      <td>NaN</td>\n",
       "      <td>22.0</td>\n",
       "      <td>Batting</td>\n",
       "      <td>ODI</td>\n",
       "    </tr>\n",
       "    <tr>\n",
       "      <th>22</th>\n",
       "      <td>01-01-2016</td>\n",
       "      <td>Angelo Mathews</td>\n",
       "      <td>SL</td>\n",
       "      <td>627.0</td>\n",
       "      <td>707.0</td>\n",
       "      <td>23.0</td>\n",
       "      <td>Batting</td>\n",
       "      <td>ODI</td>\n",
       "    </tr>\n",
       "    <tr>\n",
       "      <th>23</th>\n",
       "      <td>01-01-2016</td>\n",
       "      <td>Suresh Raina</td>\n",
       "      <td>IND</td>\n",
       "      <td>625.0</td>\n",
       "      <td>669.0</td>\n",
       "      <td>24.0</td>\n",
       "      <td>Batting</td>\n",
       "      <td>ODI</td>\n",
       "    </tr>\n",
       "    <tr>\n",
       "      <th>24</th>\n",
       "      <td>01-01-2016</td>\n",
       "      <td>Mohammad Hafeez</td>\n",
       "      <td>PAK</td>\n",
       "      <td>620.0</td>\n",
       "      <td>665.0</td>\n",
       "      <td>25.0</td>\n",
       "      <td>NaN</td>\n",
       "      <td>ODI</td>\n",
       "    </tr>\n",
       "    <tr>\n",
       "      <th>25</th>\n",
       "      <td>01-01-2016</td>\n",
       "      <td>Brendon McCullum</td>\n",
       "      <td>NZ</td>\n",
       "      <td>613.0</td>\n",
       "      <td>685.0</td>\n",
       "      <td>26.0</td>\n",
       "      <td>Batting</td>\n",
       "      <td>ODI</td>\n",
       "    </tr>\n",
       "    <tr>\n",
       "      <th>26</th>\n",
       "      <td>01-01-2016</td>\n",
       "      <td>Tamim Iqbal</td>\n",
       "      <td>BAN</td>\n",
       "      <td>611.0</td>\n",
       "      <td>737.0</td>\n",
       "      <td>27.0</td>\n",
       "      <td>Batting</td>\n",
       "      <td>NaN</td>\n",
       "    </tr>\n",
       "    <tr>\n",
       "      <th>27</th>\n",
       "      <td>01-01-2016</td>\n",
       "      <td>Ajinkya Rahane</td>\n",
       "      <td>IND</td>\n",
       "      <td>NaN</td>\n",
       "      <td>633.0</td>\n",
       "      <td>28.0</td>\n",
       "      <td>Batting</td>\n",
       "      <td>ODI</td>\n",
       "    </tr>\n",
       "    <tr>\n",
       "      <th>28</th>\n",
       "      <td>01-01-2016</td>\n",
       "      <td>James Faulkner</td>\n",
       "      <td>AUS</td>\n",
       "      <td>599.0</td>\n",
       "      <td>628.0</td>\n",
       "      <td>29.0</td>\n",
       "      <td>Batting</td>\n",
       "      <td>ODI</td>\n",
       "    </tr>\n",
       "  </tbody>\n",
       "</table>\n",
       "</div>"
      ],
      "text/plain": [
       "          Date           Player_name Nationality  Rating  Best_rating  \\\n",
       "0   01-01-2016        AB de Villiers          SA   900.0        902.0   \n",
       "1   01-01-2016           Virat Kohli         IND   804.0        911.0   \n",
       "2   01-01-2016       Kane Williamson          NZ   781.0        799.0   \n",
       "3   01-01-2016           Hashim Amla          SA   776.0        901.0   \n",
       "4   01-01-2016  Tillekeratne Dilshan          SL   771.0        802.0   \n",
       "5   01-01-2016              MS Dhoni         IND   741.0        836.0   \n",
       "6   01-01-2016        Shikhar Dhawan         IND   730.0        813.0   \n",
       "7   01-01-2016         Glenn Maxwell         AUS   717.0        735.0   \n",
       "8   01-01-2016           Ross Taylor          NZ   716.0        841.0   \n",
       "9   01-01-2016       Quinton de Kock         NaN   715.0        813.0   \n",
       "10  01-01-2016   Francois du Plessis          SA   715.0        820.0   \n",
       "11  01-01-2016        Martin Guptill         NaN     NaN          NaN   \n",
       "12  01-01-2016                   NaN         NaN     NaN          NaN   \n",
       "13  01-01-2016           Aaron Finch         AUS   696.0          NaN   \n",
       "14  01-01-2016         George Bailey         NaN     NaN          NaN   \n",
       "15  01-01-2016              Joe Root         ENG   675.0          NaN   \n",
       "16  01-01-2016           Jos Buttler         ENG   662.0        741.0   \n",
       "17  01-01-2016         Soumya Sarkar         BAN   661.0        671.0   \n",
       "18  01-01-2016       Mushfiqur Rahim         BAN     NaN        723.0   \n",
       "19  01-01-2016           Steve Smith         AUS   657.0        752.0   \n",
       "20  01-01-2016           Eoin Morgan         ENG   643.0        720.0   \n",
       "21  01-01-2016          David Warner         AUS   638.0          NaN   \n",
       "22  01-01-2016        Angelo Mathews          SL   627.0        707.0   \n",
       "23  01-01-2016          Suresh Raina         IND   625.0        669.0   \n",
       "24  01-01-2016       Mohammad Hafeez         PAK   620.0        665.0   \n",
       "25  01-01-2016      Brendon McCullum          NZ   613.0        685.0   \n",
       "26  01-01-2016           Tamim Iqbal         BAN   611.0        737.0   \n",
       "27  01-01-2016        Ajinkya Rahane         IND     NaN        633.0   \n",
       "28  01-01-2016        James Faulkner         AUS   599.0        628.0   \n",
       "\n",
       "    Previous_Ranking     Type Format  \n",
       "0                1.0  Batting    ODI  \n",
       "1                2.0  BATTING    ODI  \n",
       "2                3.0  Batting    ODI  \n",
       "3                4.0  BATTING    ODI  \n",
       "4                5.0  Batting    ODI  \n",
       "5                6.0  Batting    ODI  \n",
       "6                7.0  Batting    ODI  \n",
       "7                9.0  BATTING    ODI  \n",
       "8                8.0  Batting    ODI  \n",
       "9               11.0  Batting    ODI  \n",
       "10              12.0  Batting    ODI  \n",
       "11               NaN      NaN    NaN  \n",
       "12               NaN      NaN    NaN  \n",
       "13              14.0  Batting    NaN  \n",
       "14               NaN      NaN    NaN  \n",
       "15              16.0  Batting    NaN  \n",
       "16              17.0  Batting    NaN  \n",
       "17              18.0  Batting    NaN  \n",
       "18              19.0  Batting    ODI  \n",
       "19              20.0  Batting    ODI  \n",
       "20              21.0  Batting    ODI  \n",
       "21              22.0  Batting    ODI  \n",
       "22              23.0  Batting    ODI  \n",
       "23              24.0  Batting    ODI  \n",
       "24              25.0      NaN    ODI  \n",
       "25              26.0  Batting    ODI  \n",
       "26              27.0  Batting    NaN  \n",
       "27              28.0  Batting    ODI  \n",
       "28              29.0  Batting    ODI  "
      ]
     },
     "execution_count": 2,
     "metadata": {},
     "output_type": "execute_result"
    }
   ],
   "source": [
    "data=pd.read_csv(r\"Cricket_dataset.txt\",sep=\"\\t\")\n",
    "data"
   ]
  },
  {
   "cell_type": "markdown",
   "metadata": {},
   "source": [
    "### Displaying meta datas"
   ]
  },
  {
   "cell_type": "code",
   "execution_count": 3,
   "metadata": {
    "colab": {
     "base_uri": "https://localhost:8080/"
    },
    "id": "3D4wFpKN2XaI",
    "outputId": "e1178721-e9b5-4aa1-9e07-020054bb9565"
   },
   "outputs": [
    {
     "name": "stdout",
     "output_type": "stream",
     "text": [
      "<class 'pandas.core.frame.DataFrame'>\n",
      "RangeIndex: 29 entries, 0 to 28\n",
      "Data columns (total 8 columns):\n",
      " #   Column            Non-Null Count  Dtype  \n",
      "---  ------            --------------  -----  \n",
      " 0   Date              29 non-null     object \n",
      " 1   Player_name       28 non-null     object \n",
      " 2   Nationality       25 non-null     object \n",
      " 3   Rating            24 non-null     float64\n",
      " 4   Best_rating       23 non-null     float64\n",
      " 5   Previous_Ranking  26 non-null     float64\n",
      " 6   Type              25 non-null     object \n",
      " 7   Format            21 non-null     object \n",
      "dtypes: float64(3), object(5)\n",
      "memory usage: 1.9+ KB\n"
     ]
    }
   ],
   "source": [
    "data.info()"
   ]
  },
  {
   "cell_type": "code",
   "execution_count": 4,
   "metadata": {},
   "outputs": [
    {
     "data": {
      "text/html": [
       "<div>\n",
       "<style scoped>\n",
       "    .dataframe tbody tr th:only-of-type {\n",
       "        vertical-align: middle;\n",
       "    }\n",
       "\n",
       "    .dataframe tbody tr th {\n",
       "        vertical-align: top;\n",
       "    }\n",
       "\n",
       "    .dataframe thead th {\n",
       "        text-align: right;\n",
       "    }\n",
       "</style>\n",
       "<table border=\"1\" class=\"dataframe\">\n",
       "  <thead>\n",
       "    <tr style=\"text-align: right;\">\n",
       "      <th></th>\n",
       "      <th>Rating</th>\n",
       "      <th>Best_rating</th>\n",
       "      <th>Previous_Ranking</th>\n",
       "    </tr>\n",
       "  </thead>\n",
       "  <tbody>\n",
       "    <tr>\n",
       "      <th>count</th>\n",
       "      <td>24.000000</td>\n",
       "      <td>23.000000</td>\n",
       "      <td>26.000000</td>\n",
       "    </tr>\n",
       "    <tr>\n",
       "      <th>mean</th>\n",
       "      <td>695.541667</td>\n",
       "      <td>761.043478</td>\n",
       "      <td>15.269231</td>\n",
       "    </tr>\n",
       "    <tr>\n",
       "      <th>std</th>\n",
       "      <td>74.275035</td>\n",
       "      <td>85.126365</td>\n",
       "      <td>8.942294</td>\n",
       "    </tr>\n",
       "    <tr>\n",
       "      <th>min</th>\n",
       "      <td>599.000000</td>\n",
       "      <td>628.000000</td>\n",
       "      <td>1.000000</td>\n",
       "    </tr>\n",
       "    <tr>\n",
       "      <th>25%</th>\n",
       "      <td>635.250000</td>\n",
       "      <td>696.000000</td>\n",
       "      <td>7.250000</td>\n",
       "    </tr>\n",
       "    <tr>\n",
       "      <th>50%</th>\n",
       "      <td>685.500000</td>\n",
       "      <td>741.000000</td>\n",
       "      <td>16.500000</td>\n",
       "    </tr>\n",
       "    <tr>\n",
       "      <th>75%</th>\n",
       "      <td>732.750000</td>\n",
       "      <td>816.500000</td>\n",
       "      <td>22.750000</td>\n",
       "    </tr>\n",
       "    <tr>\n",
       "      <th>max</th>\n",
       "      <td>900.000000</td>\n",
       "      <td>911.000000</td>\n",
       "      <td>29.000000</td>\n",
       "    </tr>\n",
       "  </tbody>\n",
       "</table>\n",
       "</div>"
      ],
      "text/plain": [
       "           Rating  Best_rating  Previous_Ranking\n",
       "count   24.000000    23.000000         26.000000\n",
       "mean   695.541667   761.043478         15.269231\n",
       "std     74.275035    85.126365          8.942294\n",
       "min    599.000000   628.000000          1.000000\n",
       "25%    635.250000   696.000000          7.250000\n",
       "50%    685.500000   741.000000         16.500000\n",
       "75%    732.750000   816.500000         22.750000\n",
       "max    900.000000   911.000000         29.000000"
      ]
     },
     "execution_count": 4,
     "metadata": {},
     "output_type": "execute_result"
    }
   ],
   "source": [
    "data.describe()"
   ]
  },
  {
   "cell_type": "markdown",
   "metadata": {},
   "source": [
    "### Print Rows and Columns "
   ]
  },
  {
   "cell_type": "code",
   "execution_count": 5,
   "metadata": {
    "colab": {
     "base_uri": "https://localhost:8080/"
    },
    "id": "9nnjhG789qtJ",
    "outputId": "16240627-fbd0-47f3-c516-bce6863a7a3c"
   },
   "outputs": [
    {
     "data": {
      "text/plain": [
       "(29, 8)"
      ]
     },
     "execution_count": 5,
     "metadata": {},
     "output_type": "execute_result"
    }
   ],
   "source": [
    "data.shape"
   ]
  },
  {
   "cell_type": "code",
   "execution_count": 6,
   "metadata": {},
   "outputs": [
    {
     "name": "stdout",
     "output_type": "stream",
     "text": [
      "Number of Rows : 29\n",
      "Number of Columns : 8\n"
     ]
    }
   ],
   "source": [
    "print(\"Number of Rows :\",data.shape[0])\n",
    "print(\"Number of Columns :\",data.shape[1])"
   ]
  },
  {
   "cell_type": "markdown",
   "metadata": {},
   "source": [
    "### Identifying number of null values in each columns"
   ]
  },
  {
   "cell_type": "code",
   "execution_count": 7,
   "metadata": {
    "colab": {
     "base_uri": "https://localhost:8080/"
    },
    "id": "UPXdr6K196p4",
    "outputId": "61ace191-5705-435d-f461-d68ad605e836"
   },
   "outputs": [
    {
     "data": {
      "text/plain": [
       "array(['01-01-2016'], dtype=object)"
      ]
     },
     "execution_count": 7,
     "metadata": {},
     "output_type": "execute_result"
    }
   ],
   "source": [
    "data['Date'].unique()"
   ]
  },
  {
   "cell_type": "code",
   "execution_count": 8,
   "metadata": {
    "colab": {
     "base_uri": "https://localhost:8080/"
    },
    "id": "E0Ot5gq9-JdS",
    "outputId": "df522dda-baa6-45f0-e5b5-b76f578bcf85"
   },
   "outputs": [
    {
     "data": {
      "text/plain": [
       "Date                0\n",
       "Player_name         1\n",
       "Nationality         4\n",
       "Rating              5\n",
       "Best_rating         6\n",
       "Previous_Ranking    3\n",
       "Type                4\n",
       "Format              8\n",
       "dtype: int64"
      ]
     },
     "execution_count": 8,
     "metadata": {},
     "output_type": "execute_result"
    }
   ],
   "source": [
    "data.isnull().sum()"
   ]
  },
  {
   "cell_type": "markdown",
   "metadata": {},
   "source": [
    "### Handeling null values "
   ]
  },
  {
   "cell_type": "markdown",
   "metadata": {},
   "source": [
    "* Filling null values"
   ]
  },
  {
   "cell_type": "code",
   "execution_count": 9,
   "metadata": {
    "colab": {
     "base_uri": "https://localhost:8080/"
    },
    "id": "bfx-k_g9134Z",
    "outputId": "34950309-473f-468a-92d5-a83cbe8a320d"
   },
   "outputs": [],
   "source": [
    "data.Nationality.fillna('',inplace=True)"
   ]
  },
  {
   "cell_type": "code",
   "execution_count": 10,
   "metadata": {
    "colab": {
     "base_uri": "https://localhost:8080/"
    },
    "id": "rDpBzj0i3DYf",
    "outputId": "31ebcd83-ad36-4d63-a0b1-1110264fdd85"
   },
   "outputs": [],
   "source": [
    "data.Format.fillna(\"ODI\",inplace=True)"
   ]
  },
  {
   "cell_type": "markdown",
   "metadata": {},
   "source": [
    "* Dropping cloumns having more than 5 null values"
   ]
  },
  {
   "cell_type": "code",
   "execution_count": 11,
   "metadata": {
    "colab": {
     "base_uri": "https://localhost:8080/",
     "height": 846
    },
    "id": "R3GDC1dd2pAu",
    "outputId": "066dceca-e367-44cd-b7e3-b1fc072610e4"
   },
   "outputs": [],
   "source": [
    "data.dropna(thresh=5,inplace=True)"
   ]
  },
  {
   "cell_type": "markdown",
   "metadata": {},
   "source": [
    "* Dropping null values from the dataset"
   ]
  },
  {
   "cell_type": "code",
   "execution_count": 12,
   "metadata": {
    "colab": {
     "base_uri": "https://localhost:8080/",
     "height": 754
    },
    "id": "i-XfKIsY3g3g",
    "outputId": "6dcdff50-13d8-4aae-be5f-ddcde4f1e6e8"
   },
   "outputs": [],
   "source": [
    "data.dropna(subset=['Best_rating'],inplace=True)"
   ]
  },
  {
   "cell_type": "markdown",
   "metadata": {},
   "source": [
    "* Filling with mode of the column"
   ]
  },
  {
   "cell_type": "code",
   "execution_count": 14,
   "metadata": {},
   "outputs": [],
   "source": [
    "data.Type.fillna(data['Type'].value_counts().idxmax(),inplace=True)"
   ]
  },
  {
   "cell_type": "markdown",
   "metadata": {},
   "source": [
    "* Filling with mean of the column"
   ]
  },
  {
   "cell_type": "code",
   "execution_count": 15,
   "metadata": {
    "colab": {
     "base_uri": "https://localhost:8080/"
    },
    "id": "E1ei9Tgb5u5j",
    "outputId": "4c476999-1488-4816-b99d-c607494e0ff8"
   },
   "outputs": [],
   "source": [
    "data.Rating.fillna(data.Rating.mean(),inplace=True)"
   ]
  },
  {
   "cell_type": "markdown",
   "metadata": {},
   "source": [
    "### Changing cloumn values to lowercase"
   ]
  },
  {
   "cell_type": "code",
   "execution_count": 16,
   "metadata": {
    "colab": {
     "base_uri": "https://localhost:8080/"
    },
    "id": "l_nT74Pb7EIM",
    "outputId": "315f73bf-a0c8-42f8-bba4-ec7915204f3a"
   },
   "outputs": [],
   "source": [
    "data.Type=data['Type'].str.lower()"
   ]
  },
  {
   "cell_type": "markdown",
   "metadata": {},
   "source": [
    "### Renaming Columns"
   ]
  },
  {
   "cell_type": "code",
   "execution_count": 17,
   "metadata": {},
   "outputs": [],
   "source": [
    "data.rename(columns={'Type':'Role'},inplace=True)"
   ]
  },
  {
   "cell_type": "markdown",
   "metadata": {},
   "source": [
    "### Identifying number of null values in each columns"
   ]
  },
  {
   "cell_type": "code",
   "execution_count": 18,
   "metadata": {},
   "outputs": [
    {
     "data": {
      "text/plain": [
       "Date                0\n",
       "Player_name         0\n",
       "Nationality         0\n",
       "Rating              0\n",
       "Best_rating         0\n",
       "Previous_Ranking    0\n",
       "Role                0\n",
       "Format              0\n",
       "dtype: int64"
      ]
     },
     "execution_count": 18,
     "metadata": {},
     "output_type": "execute_result"
    }
   ],
   "source": [
    "data.isnull().sum()"
   ]
  },
  {
   "cell_type": "markdown",
   "metadata": {},
   "source": [
    "### Print Rows and Columns "
   ]
  },
  {
   "cell_type": "code",
   "execution_count": 19,
   "metadata": {},
   "outputs": [
    {
     "data": {
      "text/plain": [
       "(23, 8)"
      ]
     },
     "execution_count": 19,
     "metadata": {},
     "output_type": "execute_result"
    }
   ],
   "source": [
    "data.shape"
   ]
  },
  {
   "cell_type": "code",
   "execution_count": 20,
   "metadata": {},
   "outputs": [
    {
     "name": "stdout",
     "output_type": "stream",
     "text": [
      "Number of Rows : 23\n",
      "Number of Columns : 8\n"
     ]
    }
   ],
   "source": [
    "print(\"Number of Rows :\",data.shape[0])\n",
    "print(\"Number of Columns :\",data.shape[1])"
   ]
  },
  {
   "cell_type": "markdown",
   "metadata": {},
   "source": [
    "### Displaying Final Dataset"
   ]
  },
  {
   "cell_type": "code",
   "execution_count": 21,
   "metadata": {},
   "outputs": [
    {
     "data": {
      "text/html": [
       "<div>\n",
       "<style scoped>\n",
       "    .dataframe tbody tr th:only-of-type {\n",
       "        vertical-align: middle;\n",
       "    }\n",
       "\n",
       "    .dataframe tbody tr th {\n",
       "        vertical-align: top;\n",
       "    }\n",
       "\n",
       "    .dataframe thead th {\n",
       "        text-align: right;\n",
       "    }\n",
       "</style>\n",
       "<table border=\"1\" class=\"dataframe\">\n",
       "  <thead>\n",
       "    <tr style=\"text-align: right;\">\n",
       "      <th></th>\n",
       "      <th>Date</th>\n",
       "      <th>Player_name</th>\n",
       "      <th>Nationality</th>\n",
       "      <th>Rating</th>\n",
       "      <th>Best_rating</th>\n",
       "      <th>Previous_Ranking</th>\n",
       "      <th>Role</th>\n",
       "      <th>Format</th>\n",
       "    </tr>\n",
       "  </thead>\n",
       "  <tbody>\n",
       "    <tr>\n",
       "      <th>0</th>\n",
       "      <td>01-01-2016</td>\n",
       "      <td>AB de Villiers</td>\n",
       "      <td>SA</td>\n",
       "      <td>900.000000</td>\n",
       "      <td>902.0</td>\n",
       "      <td>1.0</td>\n",
       "      <td>batting</td>\n",
       "      <td>ODI</td>\n",
       "    </tr>\n",
       "    <tr>\n",
       "      <th>1</th>\n",
       "      <td>01-01-2016</td>\n",
       "      <td>Virat Kohli</td>\n",
       "      <td>IND</td>\n",
       "      <td>804.000000</td>\n",
       "      <td>911.0</td>\n",
       "      <td>2.0</td>\n",
       "      <td>batting</td>\n",
       "      <td>ODI</td>\n",
       "    </tr>\n",
       "    <tr>\n",
       "      <th>2</th>\n",
       "      <td>01-01-2016</td>\n",
       "      <td>Kane Williamson</td>\n",
       "      <td>NZ</td>\n",
       "      <td>781.000000</td>\n",
       "      <td>799.0</td>\n",
       "      <td>3.0</td>\n",
       "      <td>batting</td>\n",
       "      <td>ODI</td>\n",
       "    </tr>\n",
       "    <tr>\n",
       "      <th>3</th>\n",
       "      <td>01-01-2016</td>\n",
       "      <td>Hashim Amla</td>\n",
       "      <td>SA</td>\n",
       "      <td>776.000000</td>\n",
       "      <td>901.0</td>\n",
       "      <td>4.0</td>\n",
       "      <td>batting</td>\n",
       "      <td>ODI</td>\n",
       "    </tr>\n",
       "    <tr>\n",
       "      <th>4</th>\n",
       "      <td>01-01-2016</td>\n",
       "      <td>Tillekeratne Dilshan</td>\n",
       "      <td>SL</td>\n",
       "      <td>771.000000</td>\n",
       "      <td>802.0</td>\n",
       "      <td>5.0</td>\n",
       "      <td>batting</td>\n",
       "      <td>ODI</td>\n",
       "    </tr>\n",
       "    <tr>\n",
       "      <th>5</th>\n",
       "      <td>01-01-2016</td>\n",
       "      <td>MS Dhoni</td>\n",
       "      <td>IND</td>\n",
       "      <td>741.000000</td>\n",
       "      <td>836.0</td>\n",
       "      <td>6.0</td>\n",
       "      <td>batting</td>\n",
       "      <td>ODI</td>\n",
       "    </tr>\n",
       "    <tr>\n",
       "      <th>6</th>\n",
       "      <td>01-01-2016</td>\n",
       "      <td>Shikhar Dhawan</td>\n",
       "      <td>IND</td>\n",
       "      <td>730.000000</td>\n",
       "      <td>813.0</td>\n",
       "      <td>7.0</td>\n",
       "      <td>batting</td>\n",
       "      <td>ODI</td>\n",
       "    </tr>\n",
       "    <tr>\n",
       "      <th>7</th>\n",
       "      <td>01-01-2016</td>\n",
       "      <td>Glenn Maxwell</td>\n",
       "      <td>AUS</td>\n",
       "      <td>717.000000</td>\n",
       "      <td>735.0</td>\n",
       "      <td>9.0</td>\n",
       "      <td>batting</td>\n",
       "      <td>ODI</td>\n",
       "    </tr>\n",
       "    <tr>\n",
       "      <th>8</th>\n",
       "      <td>01-01-2016</td>\n",
       "      <td>Ross Taylor</td>\n",
       "      <td>NZ</td>\n",
       "      <td>716.000000</td>\n",
       "      <td>841.0</td>\n",
       "      <td>8.0</td>\n",
       "      <td>batting</td>\n",
       "      <td>ODI</td>\n",
       "    </tr>\n",
       "    <tr>\n",
       "      <th>9</th>\n",
       "      <td>01-01-2016</td>\n",
       "      <td>Quinton de Kock</td>\n",
       "      <td></td>\n",
       "      <td>715.000000</td>\n",
       "      <td>813.0</td>\n",
       "      <td>11.0</td>\n",
       "      <td>batting</td>\n",
       "      <td>ODI</td>\n",
       "    </tr>\n",
       "    <tr>\n",
       "      <th>10</th>\n",
       "      <td>01-01-2016</td>\n",
       "      <td>Francois du Plessis</td>\n",
       "      <td>SA</td>\n",
       "      <td>715.000000</td>\n",
       "      <td>820.0</td>\n",
       "      <td>12.0</td>\n",
       "      <td>batting</td>\n",
       "      <td>ODI</td>\n",
       "    </tr>\n",
       "    <tr>\n",
       "      <th>16</th>\n",
       "      <td>01-01-2016</td>\n",
       "      <td>Jos Buttler</td>\n",
       "      <td>ENG</td>\n",
       "      <td>662.000000</td>\n",
       "      <td>741.0</td>\n",
       "      <td>17.0</td>\n",
       "      <td>batting</td>\n",
       "      <td>ODI</td>\n",
       "    </tr>\n",
       "    <tr>\n",
       "      <th>17</th>\n",
       "      <td>01-01-2016</td>\n",
       "      <td>Soumya Sarkar</td>\n",
       "      <td>BAN</td>\n",
       "      <td>661.000000</td>\n",
       "      <td>671.0</td>\n",
       "      <td>18.0</td>\n",
       "      <td>batting</td>\n",
       "      <td>ODI</td>\n",
       "    </tr>\n",
       "    <tr>\n",
       "      <th>18</th>\n",
       "      <td>01-01-2016</td>\n",
       "      <td>Mushfiqur Rahim</td>\n",
       "      <td>BAN</td>\n",
       "      <td>699.238095</td>\n",
       "      <td>723.0</td>\n",
       "      <td>19.0</td>\n",
       "      <td>batting</td>\n",
       "      <td>ODI</td>\n",
       "    </tr>\n",
       "    <tr>\n",
       "      <th>19</th>\n",
       "      <td>01-01-2016</td>\n",
       "      <td>Steve Smith</td>\n",
       "      <td>AUS</td>\n",
       "      <td>657.000000</td>\n",
       "      <td>752.0</td>\n",
       "      <td>20.0</td>\n",
       "      <td>batting</td>\n",
       "      <td>ODI</td>\n",
       "    </tr>\n",
       "    <tr>\n",
       "      <th>20</th>\n",
       "      <td>01-01-2016</td>\n",
       "      <td>Eoin Morgan</td>\n",
       "      <td>ENG</td>\n",
       "      <td>643.000000</td>\n",
       "      <td>720.0</td>\n",
       "      <td>21.0</td>\n",
       "      <td>batting</td>\n",
       "      <td>ODI</td>\n",
       "    </tr>\n",
       "    <tr>\n",
       "      <th>22</th>\n",
       "      <td>01-01-2016</td>\n",
       "      <td>Angelo Mathews</td>\n",
       "      <td>SL</td>\n",
       "      <td>627.000000</td>\n",
       "      <td>707.0</td>\n",
       "      <td>23.0</td>\n",
       "      <td>batting</td>\n",
       "      <td>ODI</td>\n",
       "    </tr>\n",
       "    <tr>\n",
       "      <th>23</th>\n",
       "      <td>01-01-2016</td>\n",
       "      <td>Suresh Raina</td>\n",
       "      <td>IND</td>\n",
       "      <td>625.000000</td>\n",
       "      <td>669.0</td>\n",
       "      <td>24.0</td>\n",
       "      <td>batting</td>\n",
       "      <td>ODI</td>\n",
       "    </tr>\n",
       "    <tr>\n",
       "      <th>24</th>\n",
       "      <td>01-01-2016</td>\n",
       "      <td>Mohammad Hafeez</td>\n",
       "      <td>PAK</td>\n",
       "      <td>620.000000</td>\n",
       "      <td>665.0</td>\n",
       "      <td>25.0</td>\n",
       "      <td>batting</td>\n",
       "      <td>ODI</td>\n",
       "    </tr>\n",
       "    <tr>\n",
       "      <th>25</th>\n",
       "      <td>01-01-2016</td>\n",
       "      <td>Brendon McCullum</td>\n",
       "      <td>NZ</td>\n",
       "      <td>613.000000</td>\n",
       "      <td>685.0</td>\n",
       "      <td>26.0</td>\n",
       "      <td>batting</td>\n",
       "      <td>ODI</td>\n",
       "    </tr>\n",
       "    <tr>\n",
       "      <th>26</th>\n",
       "      <td>01-01-2016</td>\n",
       "      <td>Tamim Iqbal</td>\n",
       "      <td>BAN</td>\n",
       "      <td>611.000000</td>\n",
       "      <td>737.0</td>\n",
       "      <td>27.0</td>\n",
       "      <td>batting</td>\n",
       "      <td>ODI</td>\n",
       "    </tr>\n",
       "    <tr>\n",
       "      <th>27</th>\n",
       "      <td>01-01-2016</td>\n",
       "      <td>Ajinkya Rahane</td>\n",
       "      <td>IND</td>\n",
       "      <td>699.238095</td>\n",
       "      <td>633.0</td>\n",
       "      <td>28.0</td>\n",
       "      <td>batting</td>\n",
       "      <td>ODI</td>\n",
       "    </tr>\n",
       "    <tr>\n",
       "      <th>28</th>\n",
       "      <td>01-01-2016</td>\n",
       "      <td>James Faulkner</td>\n",
       "      <td>AUS</td>\n",
       "      <td>599.000000</td>\n",
       "      <td>628.0</td>\n",
       "      <td>29.0</td>\n",
       "      <td>batting</td>\n",
       "      <td>ODI</td>\n",
       "    </tr>\n",
       "  </tbody>\n",
       "</table>\n",
       "</div>"
      ],
      "text/plain": [
       "          Date           Player_name Nationality      Rating  Best_rating  \\\n",
       "0   01-01-2016        AB de Villiers          SA  900.000000        902.0   \n",
       "1   01-01-2016           Virat Kohli         IND  804.000000        911.0   \n",
       "2   01-01-2016       Kane Williamson          NZ  781.000000        799.0   \n",
       "3   01-01-2016           Hashim Amla          SA  776.000000        901.0   \n",
       "4   01-01-2016  Tillekeratne Dilshan          SL  771.000000        802.0   \n",
       "5   01-01-2016              MS Dhoni         IND  741.000000        836.0   \n",
       "6   01-01-2016        Shikhar Dhawan         IND  730.000000        813.0   \n",
       "7   01-01-2016         Glenn Maxwell         AUS  717.000000        735.0   \n",
       "8   01-01-2016           Ross Taylor          NZ  716.000000        841.0   \n",
       "9   01-01-2016       Quinton de Kock              715.000000        813.0   \n",
       "10  01-01-2016   Francois du Plessis          SA  715.000000        820.0   \n",
       "16  01-01-2016           Jos Buttler         ENG  662.000000        741.0   \n",
       "17  01-01-2016         Soumya Sarkar         BAN  661.000000        671.0   \n",
       "18  01-01-2016       Mushfiqur Rahim         BAN  699.238095        723.0   \n",
       "19  01-01-2016           Steve Smith         AUS  657.000000        752.0   \n",
       "20  01-01-2016           Eoin Morgan         ENG  643.000000        720.0   \n",
       "22  01-01-2016        Angelo Mathews          SL  627.000000        707.0   \n",
       "23  01-01-2016          Suresh Raina         IND  625.000000        669.0   \n",
       "24  01-01-2016       Mohammad Hafeez         PAK  620.000000        665.0   \n",
       "25  01-01-2016      Brendon McCullum          NZ  613.000000        685.0   \n",
       "26  01-01-2016           Tamim Iqbal         BAN  611.000000        737.0   \n",
       "27  01-01-2016        Ajinkya Rahane         IND  699.238095        633.0   \n",
       "28  01-01-2016        James Faulkner         AUS  599.000000        628.0   \n",
       "\n",
       "    Previous_Ranking     Role Format  \n",
       "0                1.0  batting    ODI  \n",
       "1                2.0  batting    ODI  \n",
       "2                3.0  batting    ODI  \n",
       "3                4.0  batting    ODI  \n",
       "4                5.0  batting    ODI  \n",
       "5                6.0  batting    ODI  \n",
       "6                7.0  batting    ODI  \n",
       "7                9.0  batting    ODI  \n",
       "8                8.0  batting    ODI  \n",
       "9               11.0  batting    ODI  \n",
       "10              12.0  batting    ODI  \n",
       "16              17.0  batting    ODI  \n",
       "17              18.0  batting    ODI  \n",
       "18              19.0  batting    ODI  \n",
       "19              20.0  batting    ODI  \n",
       "20              21.0  batting    ODI  \n",
       "22              23.0  batting    ODI  \n",
       "23              24.0  batting    ODI  \n",
       "24              25.0  batting    ODI  \n",
       "25              26.0  batting    ODI  \n",
       "26              27.0  batting    ODI  \n",
       "27              28.0  batting    ODI  \n",
       "28              29.0  batting    ODI  "
      ]
     },
     "execution_count": 21,
     "metadata": {},
     "output_type": "execute_result"
    }
   ],
   "source": [
    "data"
   ]
  },
  {
   "cell_type": "code",
   "execution_count": null,
   "metadata": {},
   "outputs": [],
   "source": []
  }
 ],
 "metadata": {
  "colab": {
   "collapsed_sections": [],
   "name": "data_cleaning.ipynb",
   "provenance": []
  },
  "kernelspec": {
   "display_name": "Python 3",
   "language": "python",
   "name": "python3"
  },
  "language_info": {
   "codemirror_mode": {
    "name": "ipython",
    "version": 3
   },
   "file_extension": ".py",
   "mimetype": "text/x-python",
   "name": "python",
   "nbconvert_exporter": "python",
   "pygments_lexer": "ipython3",
   "version": "3.8.3"
  }
 },
 "nbformat": 4,
 "nbformat_minor": 1
}
